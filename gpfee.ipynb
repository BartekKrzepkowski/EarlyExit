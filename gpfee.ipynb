{
 "cells": [
  {
   "cell_type": "code",
   "execution_count": null,
   "id": "a1d53f26-6138-4670-a857-33c6b1964802",
   "metadata": {},
   "outputs": [],
   "source": [
    "%load_ext autoreload\n",
    "%autoreload 2"
   ]
  },
  {
   "cell_type": "code",
   "execution_count": null,
   "id": "daa3f749-b904-4ac6-ba77-bf2ed6d1acff",
   "metadata": {},
   "outputs": [],
   "source": [
    "import torch\n",
    "from accelerate import Accelerator\n",
    "from transformers import get_cosine_schedule_with_warmup\n",
    "\n",
    "device = torch.device(\"cuda\" if torch.cuda.is_available() else \"cpu\")\n",
    "device"
   ]
  },
  {
   "cell_type": "code",
   "execution_count": null,
   "id": "9d6a0239-b869-4d39-b256-7f47f24ef655",
   "metadata": {},
   "outputs": [],
   "source": [
    "EPOCHS = 5\n",
    "BATCH_SIZE = 32\n",
    "GRAD_ACCUM_STEPS = 128 // BATCH_SIZE"
   ]
  },
  {
   "cell_type": "code",
   "execution_count": null,
   "id": "d498357e-0c5f-46f2-9900-f0d3c2bf2def",
   "metadata": {},
   "outputs": [],
   "source": [
    "from datasets import get_cifar10\n",
    "from torch.utils.data import DataLoader\n",
    "train_set, val_set, test_set = get_cifar10()\n",
    "\n",
    "train_loader = DataLoader(dataset=train_set, shuffle=True, batch_size=BATCH_SIZE, pin_memory=True, num_workers=8)\n",
    "val_loader = DataLoader(dataset=val_set, shuffle=False, batch_size=BATCH_SIZE, pin_memory=True, num_workers=8)\n",
    "test_loader = DataLoader(dataset=test_set, shuffle=False, batch_size=BATCH_SIZE, pin_memory=True, num_workers=8)\n",
    "\n",
    "NUM_TRAINING_STEPS = (len(train_loader) // GRAD_ACCUM_STEPS) * EPOCHS"
   ]
  },
  {
   "cell_type": "code",
   "execution_count": null,
   "id": "089bec33-aa94-45c0-afec-e1b3ae4e12e4",
   "metadata": {},
   "outputs": [],
   "source": [
    "from trainer import EarlyExitTrainer\n",
    "from pee_method import PEE\n",
    "from resnets import ResNet18"
   ]
  },
  {
   "cell_type": "code",
   "execution_count": null,
   "id": "c78aee7f-764b-4a28-b13d-f32d620e9d70",
   "metadata": {},
   "outputs": [],
   "source": [
    "backbone_model = ResNet18(10)\n",
    "ee_method = PEE(backbone_model, [64, 64, 128, 128, 256, 256, 512, 512], 0.2, device).to(device)"
   ]
  },
  {
   "cell_type": "code",
   "execution_count": null,
   "id": "31eced0b-bedc-49a1-9cf1-74dd3363bd4f",
   "metadata": {
    "jupyter": {
     "source_hidden": true
    },
    "tags": []
   },
   "outputs": [],
   "source": [
    "import numpy as np\n",
    "\n",
    "fg = backbone_model.forward_generator(torch.randn(1,3,32,32).to(device))\n",
    "x = None\n",
    "\n",
    "x = fg.send(x)\n",
    "print(x.shape, np.prod(x.shape))\n",
    "\n",
    "backbone_model.adjust_repr(x).shape"
   ]
  },
  {
   "cell_type": "code",
   "execution_count": null,
   "id": "34250aaf-eb97-4e40-834a-90ae1e0d7b27",
   "metadata": {},
   "outputs": [],
   "source": [
    "from utils import configure_optimizer\n",
    "\n",
    "accelerator = Accelerator()\n",
    "criterion = torch.nn.CrossEntropyLoss().to(device)\n",
    "optim = torch.optim.AdamW(ee_method.parameters(), **{'lr': 0.05, 'weight_decay': 0.001})\n",
    "lr_scheduler = None\n",
    "# optim = configure_optimizer(optim_wrapper, backbone_model, ee_method, lr_backbone=5e-4, lr_head=5e-3, weight_decay=1e-3)\n",
    "# lr_scheduler = get_cosine_schedule_with_warmup(\n",
    "#             optimizer=optim,\n",
    "#             num_cycles=EPOCHS,\n",
    "#             num_warmup_steps=int(0.2 * NUM_TRAINING_STEPS),\n",
    "#             num_training_steps=NUM_TRAINING_STEPS)"
   ]
  },
  {
   "cell_type": "code",
   "execution_count": null,
   "id": "03b118e6-81b8-4a94-8362-b542af36ad5d",
   "metadata": {},
   "outputs": [],
   "source": [
    "train_loader, val_loader, test_loader, ee_method, optim, lr_scheduler = accelerator.prepare(\n",
    "        train_loader, val_loader, test_loader, ee_method, optim, lr_scheduler)\n",
    "\n",
    "loaders = {'train': train_loader, 'test': test_loader, 'val': val_loader}"
   ]
  },
  {
   "cell_type": "code",
   "execution_count": null,
   "id": "14763d40-dd54-4ce8-b2df-5524963f980d",
   "metadata": {},
   "outputs": [],
   "source": [
    "args_trainer = {\n",
    "    'ee_method': ee_method,\n",
    "    'criterion': criterion,\n",
    "    'optim': optim,\n",
    "    'accelerator': accelerator,\n",
    "    'lr_scheduler': lr_scheduler,\n",
    "    'loaders': loaders,\n",
    "    'device': device\n",
    "}\n",
    "\n",
    "trainer = EarlyExitTrainer(**args_trainer)"
   ]
  },
  {
   "cell_type": "code",
   "execution_count": null,
   "id": "09b27368-59fa-4015-b420-8a0f16efc837",
   "metadata": {},
   "outputs": [],
   "source": [
    "import collections\n",
    "config_run_epoch = collections.namedtuple('RE', ['save_interval', 'grad_accum_steps', 'running_step_mult'])(110000,\n",
    "                                                                                                       GRAD_ACCUM_STEPS,\n",
    "                                                                                                       4)\n",
    "params_run = {\n",
    "    'epoch_start': 0,\n",
    "    'epoch_end': EPOCHS,\n",
    "    'exp_name': f'gpee',\n",
    "    'config_run_epoch': config_run_epoch,\n",
    "    'random_seed': 42\n",
    "}\n",
    "trainer.run_exp(**params_run)"
   ]
  },
  {
   "cell_type": "code",
   "execution_count": null,
   "id": "0d32a9a2-5560-48d5-b92e-eb77f1de45fe",
   "metadata": {},
   "outputs": [],
   "source": []
  }
 ],
 "metadata": {
  "kernelspec": {
   "display_name": "pfee",
   "language": "python",
   "name": "pfee"
  },
  "language_info": {
   "codemirror_mode": {
    "name": "ipython",
    "version": 3
   },
   "file_extension": ".py",
   "mimetype": "text/x-python",
   "name": "python",
   "nbconvert_exporter": "python",
   "pygments_lexer": "ipython3",
   "version": "3.10.6"
  }
 },
 "nbformat": 4,
 "nbformat_minor": 5
}
